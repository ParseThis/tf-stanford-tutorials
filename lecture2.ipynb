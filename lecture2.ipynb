{
 "cells": [
  {
   "cell_type": "markdown",
   "metadata": {
    "collapsed": true
   },
   "source": [
    "## Notebook to along side lecture 2 of cs20si \n",
    "### Tensorflow for deep learning research\n",
    "\n",
    "_Note that graph summaries will not be available while the notebook is serving from the directory. So tensorboard will not see the summaries. Killing the nodebook server only way I know of for seeing the tensorboard graph. I assume that the server is creating a lock on the resource._\n",
    "\n",
    "- tf.mul is deprecated if tf1.0, replaced by tf.multiply"
   ]
  },
  {
   "cell_type": "code",
   "execution_count": 54,
   "metadata": {
    "collapsed": false
   },
   "outputs": [
    {
     "data": {
      "text/plain": [
       "'1.0.1'"
      ]
     },
     "execution_count": 54,
     "metadata": {},
     "output_type": "execute_result"
    }
   ],
   "source": [
    "import tensorflow as tf\n",
    "tf.__version__"
   ]
  },
  {
   "cell_type": "markdown",
   "metadata": {},
   "source": [
    "#### TF\n",
    "- Phase 1 : Assemble graph\n",
    "- Phase 2 : Use session to run the operations in the graph"
   ]
  },
  {
   "cell_type": "code",
   "execution_count": 3,
   "metadata": {
    "collapsed": true
   },
   "outputs": [],
   "source": [
    "a = tf.add(2,3)\n",
    "with tf.Session() as sess:\n",
    "    print(sess.run(a))"
   ]
  },
  {
   "cell_type": "markdown",
   "metadata": {},
   "source": [
    "##### Graph primitives\n",
    "- Nodes : Operators, variables and constants\n",
    "- Edges : Tensors"
   ]
  },
  {
   "cell_type": "markdown",
   "metadata": {},
   "source": [
    "_A Session object encapsulates the environment in which Operations \n",
    "objects are executed and Tensor objects are evaluated_"
   ]
  },
  {
   "cell_type": "code",
   "execution_count": 7,
   "metadata": {
    "collapsed": false
   },
   "outputs": [],
   "source": [
    "x = 2\n",
    "y = 3\n",
    "op1 = tf.add(x, y)\n",
    "\n",
    "#\n",
    "# note the tf.mul is elementwise\n",
    "op2 = tf.multiply(x, y)\n",
    "op3 = tf.pow(op1, op2)\n",
    "with tf.Session() as sess:\n",
    "    op3 = sess.run(op3)\n",
    "    \n"
   ]
  },
  {
   "cell_type": "markdown",
   "metadata": {},
   "source": [
    "##### Summaries | Tensorboard"
   ]
  },
  {
   "cell_type": "code",
   "execution_count": 55,
   "metadata": {
    "collapsed": false
   },
   "outputs": [
    {
     "name": "stdout",
     "output_type": "stream",
     "text": [
      "5\n"
     ]
    }
   ],
   "source": [
    "a = tf.constant(2)\n",
    "b = tf.constant(3)\n",
    "\n",
    "x = tf.add(a,b)\n",
    "with tf.Session() as sess:\n",
    "    writer = tf.summary.FileWriter('./graph', sess.graph)\n",
    "    print(sess.run(x))\n",
    "writer.close()"
   ]
  },
  {
   "cell_type": "markdown",
   "metadata": {},
   "source": [
    "##### Constants"
   ]
  },
  {
   "cell_type": "code",
   "execution_count": 56,
   "metadata": {
    "collapsed": false
   },
   "outputs": [
    {
     "name": "stdout",
     "output_type": "stream",
     "text": [
      "[[2 3]\n",
      " [4 5]]\n"
     ]
    }
   ],
   "source": [
    "a  = tf.constant([2, 2], name=\"a\")\n",
    "b  = tf.constant([[0, 1], [2, 3]], name=\"b\")\n",
    "\n",
    "x = tf.add(a, b, name=\"add\")\n",
    "y = tf.multiply(a, b, name=\"mul\")\n",
    "\n",
    "with tf.Session() as sess:\n",
    "    x, y = sess.run([x, y])\n",
    "    print x"
   ]
  },
  {
   "cell_type": "code",
   "execution_count": 57,
   "metadata": {
    "collapsed": false
   },
   "outputs": [
    {
     "name": "stdout",
     "output_type": "stream",
     "text": [
      "[array([[0, 0, 0],\n",
      "       [0, 0, 0]], dtype=int32), array([[1, 1, 1],\n",
      "       [1, 1, 1]], dtype=int32)]\n"
     ]
    }
   ],
   "source": [
    "a = tf.zeros([2, 3], tf.int32, name=\"zeros\")\n",
    "\n",
    "# creates a tensor filled with a scalar value\n",
    "\n",
    "# in numpy takes two steps \n",
    "# create Array a and then a.fill\n",
    "\n",
    "# fill a 2, 3 Tensor with 8's\n",
    "b = tf.fill([2, 3], 8)\n",
    "\n",
    "# what does the optimize parameter do?\n",
    "ones = tf.ones_like(a, optimize=True)\n",
    "\n",
    "with tf.Session() as sess:\n",
    "    print(sess.run([a, ones]))"
   ]
  },
  {
   "cell_type": "code",
   "execution_count": 12,
   "metadata": {
    "collapsed": false
   },
   "outputs": [
    {
     "name": "stdout",
     "output_type": "stream",
     "text": [
      "[array([ 0.        ,  0.11111111,  0.22222222,  0.33333334,  0.44444445,\n",
      "        0.55555558,  0.66666669,  0.77777779,  0.8888889 ,  1.        ], dtype=float32), array([0, 2, 4, 6, 8], dtype=int32)]\n"
     ]
    }
   ],
   "source": [
    "# create 10 values from 0.0 and 1.0\n",
    "# note: can't pass int types to linspace start parameter\n",
    "# i.e tf.linspace(0, 1, 10 ) will raise an attribute error\n",
    "\n",
    "# but tf.linspace(0., 1, 10) will cast the end stop parameter to float.\n",
    "\n",
    "a = tf.linspace(0., 1, 10)\n",
    "b = tf.range(0, 10, 2) # creates [0, 2, 4, 6, 8]\n",
    "\n",
    "with tf.Session() as sess:\n",
    "    print(sess.run([a, b]))"
   ]
  },
  {
   "cell_type": "code",
   "execution_count": 59,
   "metadata": {
    "collapsed": false
   },
   "outputs": [
    {
     "name": "stdout",
     "output_type": "stream",
     "text": [
      "[[-0.31536332  0.70742536]\n",
      " [ 0.57206273  1.48380411]]\n"
     ]
    }
   ],
   "source": [
    "shape = [3, 3]\n",
    "a = tf.random_normal(shape, mean=0.0, stddev=1.0, \n",
    "                     dtype=tf.float32, seed=None)\n",
    "\n",
    "# sample from a normal distribution with specified mean and stddev\n",
    "# however, values greater than 2 standard deviations from the mean are\n",
    "# discarded and repicked\n",
    "\n",
    "b = tf.truncated_normal(shape, mean=0.0, stddev=1.0, \n",
    "                     dtype=tf.float32, seed=None)\n",
    "\n",
    " \n",
    "\n",
    "# shuff = tf.random_shuffle(tf.mul(a, b), seed=None, name=None)\n",
    "\n",
    "# randomly crop a [2 2] matrix from `a`\n",
    "\n",
    "# let's create the size parameter  for tf.crop\n",
    "# for more info do tf.random_crop? in a cell\n",
    "# `size` needs to be a 1-D vector with size the rank of `a`\n",
    "\n",
    "# crop a 2, 2 random matrix from a\n",
    "size = tf.fill([tf.rank(a)], 2)\n",
    "\n",
    "crop  = tf.random_crop(a, size, seed=None, name=None)\n",
    "# multi = tf.multinomial(logits, num_samples, seed=None, name=None)\n",
    "# gamm = tf.random_gamma(shape, .3 , beta=None, dtype=tf.float32,\n",
    "#                         seed=None, name=None)\n",
    "\n",
    "with tf.Session() as sess:\n",
    "#     print(sess.run([a, b]))\n",
    "    print(sess.run(crop))\n",
    "    \n"
   ]
  },
  {
   "cell_type": "markdown",
   "metadata": {},
   "source": [
    "##### Operations"
   ]
  },
  {
   "cell_type": "code",
   "execution_count": 60,
   "metadata": {
    "collapsed": false
   },
   "outputs": [
    {
     "name": "stdout",
     "output_type": "stream",
     "text": [
      "[[18]]\n"
     ]
    }
   ],
   "source": [
    "a = tf.constant([3, 6])\n",
    "b = tf.constant([2, 2])\n",
    "\n",
    "addn = tf.add_n([a, b, b]) # >> [7 10]. Equivalent to a + b + b\n",
    "\n",
    "# tf.matmul is matrix multiplication so dimension must confirm\n",
    "# tf.matmul(a, b) # >> ValueError\n",
    "\n",
    "# reshape a as a row vector and reshape b to a column vector\n",
    "# now matrix multiplication is possible.\n",
    "\n",
    "matmul = tf.matmul(tf.reshape(a, [1, 2]), tf.reshape(b, [2, 1])) # >> [[18]]\n",
    "divide = tf.div(a, b) # >> [1 3]\n",
    "mod = tf.mod(a, b) # >> [1 0]\n",
    "\n",
    "with tf.Session() as sess:\n",
    "#     print(sess.run([a, b]))\n",
    "    print(sess.run(matmul))\n",
    "#     print(sess.run(b))\n"
   ]
  },
  {
   "cell_type": "markdown",
   "metadata": {
    "collapsed": false
   },
   "source": [
    "##### Variables"
   ]
  },
  {
   "cell_type": "code",
   "execution_count": 61,
   "metadata": {
    "collapsed": false
   },
   "outputs": [],
   "source": [
    "a = tf.Variable(2, name=\"scaler\")\n",
    "# create variable b as a vector\n",
    "b = tf.Variable([2, 3], name=\"vector\")\n",
    "# create variable c as a 2x2 matrix\n",
    "c = tf.Variable([[0, 1], [2, 3]], name=\"matrix\")\n",
    "# create variable W as 784 x 10 tensor, filled with zeros\n",
    "W = tf.Variable(tf.zeros([784,10]))\n",
    "\n",
    "# must initialize variables\n",
    "# here we do them all at one\n",
    "init = tf.global_variables_initializer()\n",
    "\n",
    "# initialize only a subset of variables\n",
    "# init = tf.global_variable_initializer([a, b], name=\"init_ab\")\n",
    "\n",
    "with tf.Session() as sess:\n",
    "    sess.run(init)\n",
    "\n",
    "# initialize a single variable \n",
    "# with tf.Session() as sess:\n",
    "#     sess.run(W.initializer)"
   ]
  },
  {
   "cell_type": "code",
   "execution_count": 62,
   "metadata": {
    "collapsed": false
   },
   "outputs": [
    {
     "name": "stdout",
     "output_type": "stream",
     "text": [
      "Tensor(\"Variable_10/read:0\", shape=(700, 10), dtype=float32)\n"
     ]
    }
   ],
   "source": [
    "# W is a random 700 x 100 variable object\n",
    "W = tf.Variable(tf.truncated_normal([700, 10]))\n",
    "with tf.Session() as sess:\n",
    "    sess.run(W.initializer)\n",
    "    print W\n"
   ]
  },
  {
   "cell_type": "markdown",
   "metadata": {},
   "source": [
    "##### .eval() "
   ]
  },
  {
   "cell_type": "code",
   "execution_count": 63,
   "metadata": {
    "collapsed": false
   },
   "outputs": [
    {
     "name": "stdout",
     "output_type": "stream",
     "text": [
      "[[-1.22230804 -0.27763152  0.29708382 ..., -0.42395937  0.15295221\n",
      "  -1.82301545]\n",
      " [-1.4102329   0.24177302  1.01148081 ...,  1.5404228  -0.8029266\n",
      "   1.22561824]\n",
      " [-0.12743907 -0.34546509 -1.3957969  ...,  0.9137609  -0.03999023\n",
      "  -0.07049976]\n",
      " ..., \n",
      " [-1.92618167 -0.59211665  0.13615945 ...,  1.08274746  0.73251981\n",
      "   1.25107837]\n",
      " [ 0.67549735  0.35665256 -1.28448474 ..., -0.20284112  0.59224588\n",
      "  -0.73523259]\n",
      " [ 0.84100056  0.18613793  0.3852838  ..., -1.06514704 -0.35162124\n",
      "  -0.93291306]]\n"
     ]
    }
   ],
   "source": [
    "# W is a random 700 x 100 variable object\n",
    "W = tf.Variable(tf.truncated_normal([700, 10]))\n",
    "with tf.Session() as sess:\n",
    "    sess.run(W.initializer)\n",
    "    print W.eval()"
   ]
  },
  {
   "cell_type": "markdown",
   "metadata": {},
   "source": [
    "##### tf.Varaible.assign()\n"
   ]
  },
  {
   "cell_type": "code",
   "execution_count": 64,
   "metadata": {
    "collapsed": false
   },
   "outputs": [
    {
     "name": "stdout",
     "output_type": "stream",
     "text": [
      "100\n"
     ]
    }
   ],
   "source": [
    "W = tf.Variable(10)\n",
    "assign_op = W.assign(100)\n",
    "with tf.Session() as sess:\n",
    "    sess.run(assign_op)\n",
    "    print(W.eval())"
   ]
  },
  {
   "cell_type": "code",
   "execution_count": 65,
   "metadata": {
    "collapsed": true
   },
   "outputs": [],
   "source": [
    "# create a variable whose original value is 2\n",
    "my_var = tf.Variable(2, name=\"my_var\")\n",
    "\n",
    "# assign a * 2 to a and call that op a_times_two\n",
    "my_var_times_two = my_var.assign(2 * my_var)\n",
    "with tf.Session() as sess:\n",
    "    sess.run(my_var.initializer)\n",
    "    sess.run(my_var_times_two) # >> 4\n",
    "    sess.run(my_var_times_two) # >> ?????\n"
   ]
  },
  {
   "cell_type": "code",
   "execution_count": 66,
   "metadata": {
    "collapsed": false
   },
   "outputs": [],
   "source": [
    "my_var = tf.Variable(10)\n",
    "\n",
    "with tf.Session() as sess:\n",
    "    sess.run(my_var.initializer)\n",
    "    # increment by 10\n",
    "    sess.run(my_var.assign_add(10)) # >> 20\n",
    "    # decrement by 2\n",
    "    sess.run(my_var.assign_sub(2))"
   ]
  },
  {
   "cell_type": "markdown",
   "metadata": {},
   "source": [
    "##### Variable persistence  in sessions"
   ]
  },
  {
   "cell_type": "code",
   "execution_count": 25,
   "metadata": {
    "collapsed": false
   },
   "outputs": [
    {
     "name": "stdout",
     "output_type": "stream",
     "text": [
      "20\n",
      "8\n",
      "120\n",
      "-42\n"
     ]
    }
   ],
   "source": [
    "W = tf.Variable(10)\n",
    "\n",
    "sess1 = tf.Session()\n",
    "sess2 = tf.Session()\n",
    "\n",
    "sess1.run(W.initializer)\n",
    "sess2.run(W.initializer)\n",
    "\n",
    "print sess1.run(W.assign_add(10)) # >> 20\n",
    "print sess2.run(W.assign_sub(2)) # >> 8\n",
    "\n",
    "print sess1.run(W.assign_add(100)) # >> 120\n",
    "print sess2.run(W.assign_sub(50)) # >> -42\n",
    "\n",
    "sess1.close()\n",
    "sess2.close()"
   ]
  },
  {
   "cell_type": "markdown",
   "metadata": {},
   "source": [
    "##### Interactive sessions\n",
    "- sets itself as default session"
   ]
  },
  {
   "cell_type": "code",
   "execution_count": 27,
   "metadata": {
    "collapsed": false
   },
   "outputs": [
    {
     "name": "stdout",
     "output_type": "stream",
     "text": [
      "30.0\n"
     ]
    }
   ],
   "source": [
    "sess = tf.InteractiveSession()\n",
    "a = tf.constant(5.0)\n",
    "b = tf.constant(6.0)\n",
    "\n",
    "c = a * b\n",
    "print(c.eval())\n",
    "sess.close()\n"
   ]
  },
  {
   "cell_type": "markdown",
   "metadata": {},
   "source": [
    "##### Control Dependencies\n",
    "- sets up order of operations\n",
    "- could be nested"
   ]
  },
  {
   "cell_type": "code",
   "execution_count": 35,
   "metadata": {
    "collapsed": false
   },
   "outputs": [],
   "source": [
    "g = tf.Graph() \n",
    "with g.as_default():\n",
    "    a = tf.constant(5.0)\n",
    "    b = tf.constant(6.0)\n",
    "    c = a * b\n",
    "    \n",
    "    with g.control_dependencies([a, b]):\n",
    "        d = a + c"
   ]
  },
  {
   "cell_type": "markdown",
   "metadata": {},
   "source": [
    "##### placeholders \n",
    "- feed values to placeholder using dicitonaries\n",
    "- placeholders are valid operations"
   ]
  },
  {
   "cell_type": "code",
   "execution_count": 39,
   "metadata": {
    "collapsed": false
   },
   "outputs": [
    {
     "name": "stdout",
     "output_type": "stream",
     "text": [
      "[ 6.  7.  8.]\n"
     ]
    }
   ],
   "source": [
    "# create a placeholder of type float 32-bit, shape is a vector of 3 elements\n",
    "a = tf.placeholder(tf.float32, shape=[3])\n",
    "\n",
    "# create a constant of type float 32-bit, shape is a vector of 3 elements\n",
    "b = tf.constant([5, 5, 5], tf.float32)\n",
    "\n",
    "# use the placeholder as you would a constant or a variable\n",
    "c = a + b # Short for tf.add(a, b)b\n",
    "\n",
    "with tf.Session() as sess:\n",
    "    # print sess.run(c) # Error because a doesn’t have any value\n",
    "    # tensor `a` is a key not the string 'a'\n",
    "    print(sess.run(c, {a: [1, 2, 3]}))"
   ]
  },
  {
   "cell_type": "code",
   "execution_count": 41,
   "metadata": {
    "collapsed": false
   },
   "outputs": [
    {
     "name": "stdout",
     "output_type": "stream",
     "text": [
      "45\n"
     ]
    }
   ],
   "source": [
    "# create operations, tensors, etc (using the default graph)\n",
    "a = tf.add(2, 5)\n",
    "b = tf.multiply(a, 3)\n",
    "\n",
    "with tf.Session() as sess:\n",
    "    # define a dictionary that says to replace the value of 'a' with 15\n",
    "    replace_dict = {a: 15}\n",
    "    # Run the session, passing in 'replace_dict' as the value to 'feed_dict'\n",
    "    print(sess.run(b, feed_dict=replace_dict)) # returns 45"
   ]
  },
  {
   "cell_type": "markdown",
   "metadata": {},
   "source": [
    "##### Normal loading\n",
    "- create node for 'add node' before executing graph\n",
    "- 'add node' is added once"
   ]
  },
  {
   "cell_type": "code",
   "execution_count": 51,
   "metadata": {
    "collapsed": false
   },
   "outputs": [
    {
     "name": "stdout",
     "output_type": "stream",
     "text": [
      "30\n",
      "30\n",
      "30\n",
      "30\n",
      "30\n",
      "30\n",
      "30\n",
      "30\n",
      "30\n",
      "30\n"
     ]
    }
   ],
   "source": [
    "x = tf.Variable(10, name='x')\n",
    "y = tf.Variable(20, name='y')\n",
    "z = tf.add(x, y) # you create the node for add node before executing the graph\n",
    "\n",
    "with tf.Session() as sess:\n",
    "    sess.run(tf.global_variables_initializer())\n",
    "    writer = tf.summary.FileWriter('./my_graph/l2', sess.graph)\n",
    "    for _ in range(10):\n",
    "        print(sess.run(z))\n",
    "        writer.close()\n",
    "        \n",
    "#     print(tf.get_default_graph().as_graph_def())"
   ]
  },
  {
   "cell_type": "markdown",
   "metadata": {},
   "source": [
    "##### Lazy loading example \n",
    "- add node is not added to the graph\n",
    "- does not show up in the tensorboard\n",
    "- not a bug though\n",
    "- node 'Add' is added n number of times\n",
    "- leads to bloated, expensive to load. pass around graph\n",
    "-"
   ]
  },
  {
   "cell_type": "code",
   "execution_count": 43,
   "metadata": {
    "collapsed": false
   },
   "outputs": [
    {
     "name": "stdout",
     "output_type": "stream",
     "text": [
      "30\n",
      "30\n",
      "30\n",
      "30\n",
      "30\n",
      "30\n",
      "30\n",
      "30\n",
      "30\n",
      "30\n"
     ]
    }
   ],
   "source": [
    "x = tf.Variable(10, name='x')\n",
    "y = tf.Variable(20, name='y')\n",
    "\n",
    "with tf.Session() as sess:\n",
    "    sess.run(tf.global_variables_initializer())\n",
    "    writer = tf.summary.FileWriter('./my_graph/l2', sess.graph)\n",
    "    for _ in range(10):\n",
    "        print(sess.run(tf.add(x, y))) # someone decides to be clever to save one line of code\n",
    "        writer.close()"
   ]
  },
  {
   "cell_type": "code",
   "execution_count": null,
   "metadata": {
    "collapsed": true
   },
   "outputs": [],
   "source": []
  }
 ],
 "metadata": {
  "kernelspec": {
   "display_name": "Python 2",
   "language": "python",
   "name": "python2"
  },
  "language_info": {
   "codemirror_mode": {
    "name": "ipython",
    "version": 2
   },
   "file_extension": ".py",
   "mimetype": "text/x-python",
   "name": "python",
   "nbconvert_exporter": "python",
   "pygments_lexer": "ipython2",
   "version": "2.7.6"
  }
 },
 "nbformat": 4,
 "nbformat_minor": 0
}

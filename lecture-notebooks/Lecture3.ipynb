{
 "cells": [
  {
   "cell_type": "code",
   "execution_count": 14,
   "metadata": {
    "collapsed": false
   },
   "outputs": [],
   "source": [
    "import tensorflow as tf\n",
    "import pandas as pd\n",
    "import xlrd\n",
    "import numpy as np"
   ]
  },
  {
   "cell_type": "code",
   "execution_count": 15,
   "metadata": {
    "collapsed": true
   },
   "outputs": [],
   "source": [
    "DATA_FILE = '../data/fire_theft.xls'"
   ]
  },
  {
   "cell_type": "code",
   "execution_count": 16,
   "metadata": {
    "collapsed": false,
    "scrolled": true
   },
   "outputs": [],
   "source": [
    "book = xlrd.open_workbook(DATA_FILE, encoding_override='utf-8')\n",
    "sheet = book.sheet_by_index(0)\n",
    "data = np.asarray([sheet.row_values(i) for i in range(1, sheet.nrows)])\n",
    "n_samples = sheet.nrows - 1\n"
   ]
  },
  {
   "cell_type": "code",
   "execution_count": 22,
   "metadata": {
    "collapsed": false
   },
   "outputs": [
    {
     "data": {
      "text/plain": [
       "array([[  6.2],\n",
       "       [  9.5],\n",
       "       [ 10.5],\n",
       "       [  7.7],\n",
       "       [  8.6],\n",
       "       [ 34.1],\n",
       "       [ 11. ],\n",
       "       [  6.9],\n",
       "       [  7.3],\n",
       "       [ 15.1],\n",
       "       [ 29.1],\n",
       "       [  2.2],\n",
       "       [  5.7],\n",
       "       [  2. ],\n",
       "       [  2.5],\n",
       "       [  4. ],\n",
       "       [  5.4],\n",
       "       [  2.2],\n",
       "       [  7.2],\n",
       "       [ 15.1],\n",
       "       [ 16.5],\n",
       "       [ 18.4],\n",
       "       [ 36.2],\n",
       "       [ 39.7],\n",
       "       [ 18.5],\n",
       "       [ 23.3],\n",
       "       [ 12.2],\n",
       "       [  5.6],\n",
       "       [ 21.8],\n",
       "       [ 21.6],\n",
       "       [  9. ],\n",
       "       [  3.6],\n",
       "       [  5. ],\n",
       "       [ 28.6],\n",
       "       [ 17.4],\n",
       "       [ 11.3],\n",
       "       [  3.4],\n",
       "       [ 11.9],\n",
       "       [ 10.5],\n",
       "       [ 10.7],\n",
       "       [ 10.8],\n",
       "       [  4.8]])"
      ]
     },
     "execution_count": 22,
     "metadata": {},
     "output_type": "execute_result"
    }
   ],
   "source": [
    "data[:, :-1]"
   ]
  },
  {
   "cell_type": "code",
   "execution_count": 7,
   "metadata": {
    "collapsed": false
   },
   "outputs": [],
   "source": [
    "X  = tf.placeholder(dtype=tf.float32, shape= [None, 30], name= \"inputs\")\n"
   ]
  },
  {
   "cell_type": "code",
   "execution_count": null,
   "metadata": {
    "collapsed": true
   },
   "outputs": [],
   "source": []
  }
 ],
 "metadata": {
  "kernelspec": {
   "display_name": "Python 2",
   "language": "python",
   "name": "python2"
  },
  "language_info": {
   "codemirror_mode": {
    "name": "ipython",
    "version": 2
   },
   "file_extension": ".py",
   "mimetype": "text/x-python",
   "name": "python",
   "nbconvert_exporter": "python",
   "pygments_lexer": "ipython2",
   "version": "2.7.6"
  }
 },
 "nbformat": 4,
 "nbformat_minor": 0
}
